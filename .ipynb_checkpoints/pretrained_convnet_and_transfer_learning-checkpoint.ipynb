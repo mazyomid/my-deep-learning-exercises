{
  "nbformat": 4,
  "nbformat_minor": 0,
  "metadata": {
    "colab": {
      "name": "pretrained convnet and transfer learning.ipynb",
      "provenance": []
    },
    "kernelspec": {
      "name": "python3",
      "display_name": "Python 3"
    },
    "language_info": {
      "name": "python"
    },
    "accelerator": "GPU"
  },
  "cells": [
    {
      "cell_type": "code",
      "execution_count": 1,
      "metadata": {
        "id": "QrIgX_hu9T9P"
      },
      "outputs": [],
      "source": [
        "import tensorflow as tf\n",
        "from tensorflow import keras"
      ]
    },
    {
      "cell_type": "code",
      "source": [
        "import numpy as np\n",
        "import pandas as pd"
      ],
      "metadata": {
        "id": "hGiZvV0pEzEc"
      },
      "execution_count": 2,
      "outputs": []
    },
    {
      "cell_type": "code",
      "source": [
        "import matplotlib.pyplot as plt"
      ],
      "metadata": {
        "id": "MsUbZfmJEx2L"
      },
      "execution_count": 3,
      "outputs": []
    },
    {
      "cell_type": "code",
      "source": [
        "from keras.applications import mobilenet_v3\n",
        "from keras.applications import vgg16,densenet"
      ],
      "metadata": {
        "id": "EnRdoIui_ZXT"
      },
      "execution_count": 4,
      "outputs": []
    },
    {
      "cell_type": "code",
      "source": [
        "from keras.applications.mobilenet_v3 import preprocess_input, decode_predictions"
      ],
      "metadata": {
        "id": "e8QXVmQxQ3Wg"
      },
      "execution_count": 5,
      "outputs": []
    },
    {
      "cell_type": "code",
      "source": [
        "(x_train,y_train),(x_test,y_test)=keras.datasets.mnist.load_data()"
      ],
      "metadata": {
        "colab": {
          "base_uri": "https://localhost:8080/"
        },
        "id": "ZqcWG0X6AuWP",
        "outputId": "aea3db8a-dfa8-472b-ce2c-ce53ad2796be"
      },
      "execution_count": 6,
      "outputs": [
        {
          "output_type": "stream",
          "name": "stdout",
          "text": [
            "Downloading data from https://storage.googleapis.com/tensorflow/tf-keras-datasets/mnist.npz\n",
            "11493376/11490434 [==============================] - 0s 0us/step\n",
            "11501568/11490434 [==============================] - 0s 0us/step\n"
          ]
        }
      ]
    },
    {
      "cell_type": "code",
      "source": [
        "plt.imshow(x_train[1])"
      ],
      "metadata": {
        "colab": {
          "base_uri": "https://localhost:8080/",
          "height": 282
        },
        "id": "4fHcprT3BGKA",
        "outputId": "f44bade7-b5d2-48ec-b77f-99d912ce018f"
      },
      "execution_count": 7,
      "outputs": [
        {
          "output_type": "execute_result",
          "data": {
            "text/plain": [
              "<matplotlib.image.AxesImage at 0x7feeb35f5290>"
            ]
          },
          "metadata": {},
          "execution_count": 7
        },
        {
          "output_type": "display_data",
          "data": {
            "text/plain": [
              "<Figure size 432x288 with 1 Axes>"
            ],
            "image/png": "[encoded data removed]"
          },
          "metadata": {
            "needs_background": "light"
          }
        }
      ]
    },
    {
      "cell_type": "code",
      "source": [
        "x_train=np.dstack([x_train]*3)\n",
        "x_test=np.dstack([x_test]*3)"
      ],
      "metadata": {
        "id": "HLHzRKFNPrrJ"
      },
      "execution_count": 8,
      "outputs": []
    },
    {
      "cell_type": "code",
      "source": [
        "np.shape(x_train)"
      ],
      "metadata": {
        "colab": {
          "base_uri": "https://localhost:8080/"
        },
        "id": "taxBz_sdQJ7c",
        "outputId": "24e435d0-1a12-4eda-c2cd-6f8ba4a81a15"
      },
      "execution_count": 9,
      "outputs": [
        {
          "output_type": "execute_result",
          "data": {
            "text/plain": [
              "(60000, 28, 84)"
            ]
          },
          "metadata": {},
          "execution_count": 9
        }
      ]
    },
    {
      "cell_type": "code",
      "source": [
        "x_train = x_train.reshape(-1,28,28,3)\n",
        "x_test = x_test.reshape(-1,28,28,3)"
      ],
      "metadata": {
        "id": "MTS7hvTSQNPM"
      },
      "execution_count": 10,
      "outputs": []
    },
    {
      "cell_type": "code",
      "source": [
        "from keras.preprocessing.image import img_to_array, array_to_img\n",
        "\n",
        "x_train = np.asarray([img_to_array(array_to_img(im, scale=False).resize((48,48))) for im in x_train])\n",
        "x_test = np.asarray([img_to_array(array_to_img(im, scale=False).resize((48,48))) for im in x_test])\n",
        "\n",
        "x_train.shape, x_test.shape"
      ],
      "metadata": {
        "colab": {
          "base_uri": "https://localhost:8080/"
        },
        "id": "7dHn22TUQNgO",
        "outputId": "45d429bf-999b-44bd-fed3-c6380aaffb5d"
      },
      "execution_count": 11,
      "outputs": [
        {
          "output_type": "execute_result",
          "data": {
            "text/plain": [
              "((60000, 48, 48, 3), (10000, 48, 48, 3))"
            ]
          },
          "metadata": {},
          "execution_count": 11
        }
      ]
    },
    {
      "cell_type": "code",
      "source": [
        ""
      ],
      "metadata": {
        "id": "hQk2hhouQNs1"
      },
      "execution_count": 11,
      "outputs": []
    },
    {
      "cell_type": "code",
      "source": [
        "x_train = x_train/255\n",
        "x_test = x_test/255"
      ],
      "metadata": {
        "id": "0of2cly5GCqw"
      },
      "execution_count": 12,
      "outputs": []
    },
    {
      "cell_type": "code",
      "source": [
        "np.shape(x_train)"
      ],
      "metadata": {
        "colab": {
          "base_uri": "https://localhost:8080/"
        },
        "id": "Fw_ADDC7Eqbd",
        "outputId": "5788cf0c-61e7-4e26-abde-36dd0076a766"
      },
      "execution_count": 13,
      "outputs": [
        {
          "output_type": "execute_result",
          "data": {
            "text/plain": [
              "(60000, 48, 48, 3)"
            ]
          },
          "metadata": {},
          "execution_count": 13
        }
      ]
    },
    {
      "cell_type": "code",
      "source": [
        "# x_train1 = np.expand_dims(x_train,-1)\n",
        "# x_test1 = np.expand_dims(x_test,-1)"
      ],
      "metadata": {
        "id": "74q43fofF0vj"
      },
      "execution_count": 14,
      "outputs": []
    },
    {
      "cell_type": "code",
      "source": [
        "# np.shape(x_train1)"
      ],
      "metadata": {
        "id": "g25CpR5XGlLN"
      },
      "execution_count": 15,
      "outputs": []
    },
    {
      "cell_type": "code",
      "source": [
        "y_train = keras.utils.to_categorical(y_train,num_classes=10)\n",
        "y_test = keras.utils.to_categorical(y_test,num_classes=10)"
      ],
      "metadata": {
        "id": "A8YZh4SGJLqE"
      },
      "execution_count": 16,
      "outputs": []
    },
    {
      "cell_type": "code",
      "source": [
        "y_train[1:5]"
      ],
      "metadata": {
        "colab": {
          "base_uri": "https://localhost:8080/"
        },
        "id": "5j7CzvNEJshO",
        "outputId": "4c2d1329-a361-408a-8dce-82275d61be2f"
      },
      "execution_count": 17,
      "outputs": [
        {
          "output_type": "execute_result",
          "data": {
            "text/plain": [
              "array([[1., 0., 0., 0., 0., 0., 0., 0., 0., 0.],\n",
              "       [0., 0., 0., 0., 1., 0., 0., 0., 0., 0.],\n",
              "       [0., 1., 0., 0., 0., 0., 0., 0., 0., 0.],\n",
              "       [0., 0., 0., 0., 0., 0., 0., 0., 0., 1.]], dtype=float32)"
            ]
          },
          "metadata": {},
          "execution_count": 17
        }
      ]
    },
    {
      "cell_type": "code",
      "source": [
        "# model = tf.keras.applications.MobileNetV3Small(weights='imagenet')\n",
        "model = tf.keras.applications.VGG16(weights='imagenet')\n",
        "# model = tf.keras.applications.DenseNet121(weights='imagenet')"
      ],
      "metadata": {
        "colab": {
          "base_uri": "https://localhost:8080/"
        },
        "id": "Bp_mzJQmOgsU",
        "outputId": "c980dd39-0f63-40cd-b74a-e7506c12f686"
      },
      "execution_count": 18,
      "outputs": [
        {
          "output_type": "stream",
          "name": "stdout",
          "text": [
            "Downloading data from https://storage.googleapis.com/tensorflow/keras-applications/vgg16/vgg16_weights_tf_dim_ordering_tf_kernels.h5\n",
            "553467904/553467096 [==============================] - 5s 0us/step\n",
            "553476096/553467096 [==============================] - 5s 0us/step\n"
          ]
        }
      ]
    },
    {
      "cell_type": "markdown",
      "source": [
        "# transfer learning"
      ],
      "metadata": {
        "id": "wGh6uov8HFVB"
      }
    },
    {
      "cell_type": "code",
      "source": [
        "from keras import layers"
      ],
      "metadata": {
        "id": "L1_Ow-8dHne6"
      },
      "execution_count": 23,
      "outputs": []
    },
    {
      "cell_type": "code",
      "source": [
        "base_model = tf.keras.applications.VGG16(weights='imagenet',input_shape=(48,48,3),\n",
        "                                    include_top=False)"
      ],
      "metadata": {
        "colab": {
          "base_uri": "https://localhost:8080/"
        },
        "id": "WqLDf09BIRqN",
        "outputId": "35cb4b24-0650-45aa-c333-c6d4c924b0bc"
      },
      "execution_count": 24,
      "outputs": [
        {
          "output_type": "stream",
          "name": "stdout",
          "text": [
            "Downloading data from https://storage.googleapis.com/tensorflow/keras-applications/vgg16/vgg16_weights_tf_dim_ordering_tf_kernels_notop.h5\n",
            "58892288/58889256 [==============================] - 1s 0us/step\n",
            "58900480/58889256 [==============================] - 1s 0us/step\n"
          ]
        }
      ]
    },
    {
      "cell_type": "code",
      "source": [
        "model=keras.Sequential()"
      ],
      "metadata": {
        "id": "yE1A8OTA_SXq"
      },
      "execution_count": 25,
      "outputs": []
    },
    {
      "cell_type": "code",
      "source": [
        "model.add(base_model)\n",
        "model.add(layers.Flatten())\n",
        "model.add(layers.Dense(256,activation='relu'))\n",
        "model.add(layers.Dense(10,activation='softmax'))"
      ],
      "metadata": {
        "id": "L0twRFtGJICO"
      },
      "execution_count": 26,
      "outputs": []
    },
    {
      "cell_type": "code",
      "source": [
        "model.summary()"
      ],
      "metadata": {
        "colab": {
          "base_uri": "https://localhost:8080/"
        },
        "id": "2CxDiLCgKQkl",
        "outputId": "6dd9a462-7750-416b-94de-1c1aea8e0bae"
      },
      "execution_count": 27,
      "outputs": [
        {
          "output_type": "stream",
          "name": "stdout",
          "text": [
            "Model: \"sequential\"\n",
            "_________________________________________________________________\n",
            " Layer (type)                Output Shape              Param #   \n",
            "=================================================================\n",
            " vgg16 (Functional)          (None, 1, 1, 512)         14714688  \n",
            "                                                                 \n",
            " flatten (Flatten)           (None, 512)               0         \n",
            "                                                                 \n",
            " dense (Dense)               (None, 256)               131328    \n",
            "                                                                 \n",
            " dense_1 (Dense)             (None, 10)                2570      \n",
            "                                                                 \n",
            "=================================================================\n",
            "Total params: 14,848,586\n",
            "Trainable params: 14,848,586\n",
            "Non-trainable params: 0\n",
            "_________________________________________________________________\n"
          ]
        }
      ]
    },
    {
      "cell_type": "code",
      "source": [
        "len(model.trainable_weights)"
      ],
      "metadata": {
        "colab": {
          "base_uri": "https://localhost:8080/"
        },
        "id": "fG37RGKuKSQP",
        "outputId": "7e344337-911c-4943-82f9-0f272d37ceb7"
      },
      "execution_count": 28,
      "outputs": [
        {
          "output_type": "execute_result",
          "data": {
            "text/plain": [
              "30"
            ]
          },
          "metadata": {},
          "execution_count": 28
        }
      ]
    },
    {
      "cell_type": "code",
      "source": [
        "base_model.trainable=False"
      ],
      "metadata": {
        "id": "N3fH5WyPKigl"
      },
      "execution_count": 29,
      "outputs": []
    },
    {
      "cell_type": "code",
      "source": [
        "len(model.trainable_weights)"
      ],
      "metadata": {
        "colab": {
          "base_uri": "https://localhost:8080/"
        },
        "id": "8B7C0lDsKm6v",
        "outputId": "d2e21ad3-a3cf-4710-faf0-0f93d52075ba"
      },
      "execution_count": 30,
      "outputs": [
        {
          "output_type": "execute_result",
          "data": {
            "text/plain": [
              "4"
            ]
          },
          "metadata": {},
          "execution_count": 30
        }
      ]
    },
    {
      "cell_type": "code",
      "source": [
        "model.compile(optimizer='adam',loss='categorical_crossentropy',metrics=['accuracy'])"
      ],
      "metadata": {
        "id": "978V6CpGKs2O"
      },
      "execution_count": 31,
      "outputs": []
    },
    {
      "cell_type": "code",
      "source": [
        "model.fit(x_train,y_train,batch_size=64,epochs=15,validation_data=(x_test,y_test))"
      ],
      "metadata": {
        "colab": {
          "base_uri": "https://localhost:8080/"
        },
        "id": "G6q0zypJLYYa",
        "outputId": "fa6cad38-8fcd-4d87-b066-094d22709227"
      },
      "execution_count": 32,
      "outputs": [
        {
          "output_type": "stream",
          "name": "stdout",
          "text": [
            "Epoch 1/15\n",
            "938/938 [==============================] - 60s 53ms/step - loss: 0.3435 - accuracy: 0.8960 - val_loss: 0.1879 - val_accuracy: 0.9428\n",
            "Epoch 2/15\n",
            "938/938 [==============================] - 49s 52ms/step - loss: 0.1717 - accuracy: 0.9453 - val_loss: 0.1498 - val_accuracy: 0.9525\n",
            "Epoch 3/15\n",
            "938/938 [==============================] - 50s 53ms/step - loss: 0.1426 - accuracy: 0.9540 - val_loss: 0.1438 - val_accuracy: 0.9544\n",
            "Epoch 4/15\n",
            "938/938 [==============================] - 53s 56ms/step - loss: 0.1315 - accuracy: 0.9571 - val_loss: 0.1286 - val_accuracy: 0.9580\n",
            "Epoch 5/15\n",
            "938/938 [==============================] - 49s 52ms/step - loss: 0.1179 - accuracy: 0.9617 - val_loss: 0.1335 - val_accuracy: 0.9555\n",
            "Epoch 6/15\n",
            "938/938 [==============================] - 49s 52ms/step - loss: 0.1103 - accuracy: 0.9636 - val_loss: 0.1217 - val_accuracy: 0.9622\n",
            "Epoch 7/15\n",
            "938/938 [==============================] - 48s 52ms/step - loss: 0.1026 - accuracy: 0.9666 - val_loss: 0.1182 - val_accuracy: 0.9628\n",
            "Epoch 8/15\n",
            "938/938 [==============================] - 48s 52ms/step - loss: 0.0956 - accuracy: 0.9684 - val_loss: 0.1250 - val_accuracy: 0.9583\n",
            "Epoch 9/15\n",
            "938/938 [==============================] - 49s 52ms/step - loss: 0.0901 - accuracy: 0.9699 - val_loss: 0.1120 - val_accuracy: 0.9635\n",
            "Epoch 10/15\n",
            "938/938 [==============================] - 48s 51ms/step - loss: 0.0839 - accuracy: 0.9721 - val_loss: 0.1084 - val_accuracy: 0.9666\n",
            "Epoch 11/15\n",
            "938/938 [==============================] - 52s 56ms/step - loss: 0.0801 - accuracy: 0.9729 - val_loss: 0.1117 - val_accuracy: 0.9646\n",
            "Epoch 12/15\n",
            "938/938 [==============================] - 50s 53ms/step - loss: 0.0750 - accuracy: 0.9756 - val_loss: 0.0975 - val_accuracy: 0.9692\n",
            "Epoch 13/15\n",
            "938/938 [==============================] - 49s 52ms/step - loss: 0.0722 - accuracy: 0.9757 - val_loss: 0.1029 - val_accuracy: 0.9675\n",
            "Epoch 14/15\n",
            "938/938 [==============================] - 48s 51ms/step - loss: 0.0672 - accuracy: 0.9774 - val_loss: 0.0951 - val_accuracy: 0.9706\n",
            "Epoch 15/15\n",
            "938/938 [==============================] - 48s 52ms/step - loss: 0.0631 - accuracy: 0.9784 - val_loss: 0.0995 - val_accuracy: 0.9690\n"
          ]
        },
        {
          "output_type": "execute_result",
          "data": {
            "text/plain": [
              "<keras.callbacks.History at 0x7feeb2e83510>"
            ]
          },
          "metadata": {},
          "execution_count": 32
        }
      ]
    },
    {
      "cell_type": "code",
      "source": [
        "model.save('vgg_trans.h5')"
      ],
      "metadata": {
        "id": "dZnbLHkoV_t7"
      },
      "execution_count": 33,
      "outputs": []
    },
    {
      "cell_type": "code",
      "source": [
        "pd.DataFrame(model.history.history).plot()"
      ],
      "metadata": {
        "colab": {
          "base_uri": "https://localhost:8080/",
          "height": 282
        },
        "id": "rC7OTpeRW9Gv",
        "outputId": "be5f7a9c-886c-4e04-f759-3bb332b655fb"
      },
      "execution_count": 34,
      "outputs": [
        {
          "output_type": "execute_result",
          "data": {
            "text/plain": [
              "<matplotlib.axes._subplots.AxesSubplot at 0x7fee39132890>"
            ]
          },
          "metadata": {},
          "execution_count": 34
        },
        {
          "output_type": "display_data",
          "data": {
            "text/plain": [
              "<Figure size 432x288 with 1 Axes>"
            ],
            "image/png": "[encoded data removed]"
          },
          "metadata": {
            "needs_background": "light"
          }
        }
      ]
    },
    {
      "cell_type": "code",
      "source": [
        ""
      ],
      "metadata": {
        "id": "kzkJ6NosXMwl"
      },
      "execution_count": null,
      "outputs": []
    },
    {
      "cell_type": "markdown",
      "source": [
        "# using pre_trained model"
      ],
      "metadata": {
        "id": "x6VkxPRhVdNu"
      }
    },
    {
      "cell_type": "code",
      "source": [
        "! pwd"
      ],
      "metadata": {
        "colab": {
          "base_uri": "https://localhost:8080/"
        },
        "id": "7-kj8OFrWql3",
        "outputId": "6793cac9-db63-4cf2-e14b-6e1632c6dd19"
      },
      "execution_count": 35,
      "outputs": [
        {
          "output_type": "stream",
          "name": "stdout",
          "text": [
            "/content\n"
          ]
        }
      ]
    },
    {
      "cell_type": "code",
      "source": [
        "!wget https://machinelearningmastery.com/wp-content/uploads/2017/08/Coffee-Mug.jpg\n",
        "img_path ='/content/Coffee-Mug.jpg'\n",
        "from keras.preprocessing import image\n",
        "img = image.load_img(img_path,target_size=(224, 224))\n",
        "plt.imshow(img)"
      ],
      "metadata": {
        "colab": {
          "base_uri": "https://localhost:8080/",
          "height": 477
        },
        "id": "h0nnKZFMU_IE",
        "outputId": "c24bf0fb-0c74-4758-ff0c-fce2e66403b7"
      },
      "execution_count": 36,
      "outputs": [
        {
          "output_type": "stream",
          "name": "stdout",
          "text": [
            "--2022-04-08 18:09:34--  https://machinelearningmastery.com/wp-content/uploads/2017/08/Coffee-Mug.jpg\n",
            "Resolving machinelearningmastery.com (machinelearningmastery.com)... 104.26.0.148, 104.26.1.148, 172.67.72.46, ...\n",
            "Connecting to machinelearningmastery.com (machinelearningmastery.com)|104.26.0.148|:443... connected.\n",
            "HTTP request sent, awaiting response... 200 OK\n",
            "Length: 26804 (26K) [image/jpeg]\n",
            "Saving to: ‘Coffee-Mug.jpg’\n",
            "\n",
            "Coffee-Mug.jpg      100%[===================>]  26.18K  --.-KB/s    in 0.001s  \n",
            "\n",
            "2022-04-08 18:09:34 (24.0 MB/s) - ‘Coffee-Mug.jpg’ saved [26804/26804]\n",
            "\n"
          ]
        },
        {
          "output_type": "execute_result",
          "data": {
            "text/plain": [
              "<matplotlib.image.AxesImage at 0x7fee38efa2d0>"
            ]
          },
          "metadata": {},
          "execution_count": 36
        },
        {
          "output_type": "display_data",
          "data": {
            "text/plain": [
              "<Figure size 432x288 with 1 Axes>"
            ],
            "image/png": "[encoded data removed]"
          },
          "metadata": {
            "needs_background": "light"
          }
        }
      ]
    },
    {
      "cell_type": "code",
      "source": [
        "model = tf.keras.applications.VGG16(weights='imagenet',input_shape=(224,224,3))"
      ],
      "metadata": {
        "id": "QIghTeXRXoS_"
      },
      "execution_count": 38,
      "outputs": []
    },
    {
      "cell_type": "code",
      "source": [
        "img_array=image.img_to_array(img)\n",
        "input=np.expand_dims(img_array,axis=0)\n",
        "x=preprocess_input(input)\n",
        "pred=model.predict(x)\n",
        "predicted = decode_predictions(pred)[0][0][1]\n",
        "predicted"
      ],
      "metadata": {
        "colab": {
          "base_uri": "https://localhost:8080/",
          "height": 89
        },
        "id": "C8hChIAhU924",
        "outputId": "a49e07ad-3f0b-49d7-d0b7-a246dfe415f3"
      },
      "execution_count": 39,
      "outputs": [
        {
          "output_type": "stream",
          "name": "stdout",
          "text": [
            "Downloading data from https://storage.googleapis.com/download.tensorflow.org/data/imagenet_class_index.json\n",
            "40960/35363 [==================================] - 0s 0us/step\n",
            "49152/35363 [=========================================] - 0s 0us/step\n"
          ]
        },
        {
          "output_type": "execute_result",
          "data": {
            "text/plain": [
              "'coffee_mug'"
            ],
            "application/vnd.google.colaboratory.intrinsic+json": {
              "type": "string"
            }
          },
          "metadata": {},
          "execution_count": 39
        }
      ]
    },
    {
      "cell_type": "code",
      "source": [
        ""
      ],
      "metadata": {
        "id": "-QWQ7DocXhN9"
      },
      "execution_count": null,
      "outputs": []
    }
  ]
}