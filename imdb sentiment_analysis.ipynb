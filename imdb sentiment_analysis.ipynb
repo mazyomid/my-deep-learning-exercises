{
 "cells": [
  {
   "cell_type": "code",
   "execution_count": 1,
   "metadata": {
    "id": "TDIU_1mzQ4e2"
   },
   "outputs": [],
   "source": [
    "import tensorflow as tf\n",
    "from tensorflow import keras\n",
    "import numpy as np"
   ]
  },
  {
   "cell_type": "code",
   "execution_count": 2,
   "metadata": {
    "id": "NEFpQi4tTpHD"
   },
   "outputs": [],
   "source": [
    "import os"
   ]
  },
  {
   "cell_type": "markdown",
   "metadata": {
    "id": "iShN-JKzbHdb"
   },
   "source": [
    "## download imdb dataset"
   ]
  },
  {
   "cell_type": "code",
   "execution_count": 3,
   "metadata": {
    "colab": {
     "base_uri": "https://localhost:8080/",
     "height": 37
    },
    "id": "DowxF3efRDmt",
    "outputId": "455ce877-0f01-413c-cad9-4e640950eafa"
   },
   "outputs": [
    {
     "data": {
      "application/vnd.google.colaboratory.intrinsic+json": {
       "type": "string"
      },
      "text/plain": [
       "'/root/.keras/datasets/imdb'"
      ]
     },
     "execution_count": 3,
     "metadata": {},
     "output_type": "execute_result"
    }
   ],
   "source": [
    "path = 'https://ai.stanford.edu/~amaas/data/sentiment/aclImdb_v1.tar.gz'\n",
    "keras.utils.get_file(fname='imdb',origin=path, untar=True)"
   ]
  },
  {
   "cell_type": "code",
   "execution_count": 4,
   "metadata": {
    "colab": {
     "base_uri": "https://localhost:8080/"
    },
    "id": "XIBJNeHtSVyu",
    "outputId": "62216ccc-31b5-423b-931f-ec63ec68f7fe"
   },
   "outputs": [
    {
     "name": "stdout",
     "output_type": "stream",
     "text": [
      "/content\n"
     ]
    }
   ],
   "source": [
    "!pwd"
   ]
  },
  {
   "cell_type": "markdown",
   "metadata": {
    "id": "1vAFyxMvbPya"
   },
   "source": [
    "# EDA"
   ]
  },
  {
   "cell_type": "code",
   "execution_count": 5,
   "metadata": {
    "colab": {
     "base_uri": "https://localhost:8080/"
    },
    "id": "LKHpgB6SWHZW",
    "outputId": "ec8938db-591b-4c95-f3df-a3a18e4fd142"
   },
   "outputs": [
    {
     "name": "stdout",
     "output_type": "stream",
     "text": [
      "First of all I hate those moronic rappers, who could'nt act if they had a gun pressed against their foreheads. All they do is curse and shoot each other and acting like cliché'e version of gangsters.<br /><br />The movie doesn't take more than five minutes to explain what is going on before we're already at the warehouse There is not a single sympathetic character in this movie, except for the homeless guy, who is also the only one with half a brain.<br /><br />Bill Paxton and William Sadler are both hill billies and Sadlers character is just as much a villain as the gangsters. I did'nt like him right from the start.<br /><br />The movie is filled with pointless violence and Walter Hills specialty: people falling through windows with glass flying everywhere. There is pretty much no plot and it is a big problem when you root for no-one. Everybody dies, except from Paxton and the homeless guy and everybody get what they deserve.<br /><br />The only two black people that can act is the homeless guy and the junkie but they're actors by profession, not annoying ugly brain dead rappers.<br /><br />Stay away from this crap and watch 48 hours 1 and 2 instead. At lest they have characters you care about, a sense of humor and nothing but real actors in the cast.\n"
     ]
    }
   ],
   "source": [
    "f=open('/root/.keras/datasets/aclImdb/test/neg/10001_1.txt','r')\n",
    "print(f.read())\n",
    "f.close()"
   ]
  },
  {
   "cell_type": "markdown",
   "metadata": {
    "id": "A7p4w3UpbXPv"
   },
   "source": [
    "# generating train and test data"
   ]
  },
  {
   "cell_type": "code",
   "execution_count": 6,
   "metadata": {
    "colab": {
     "base_uri": "https://localhost:8080/"
    },
    "id": "h8FTB2-2gzRh",
    "outputId": "a413ef8e-3b61-451d-d012-3d3ad04a2240"
   },
   "outputs": [
    {
     "name": "stdout",
     "output_type": "stream",
     "text": [
      "/root/.keras/datasets/aclImdb/train\n"
     ]
    }
   ],
   "source": [
    "%cd /root/.keras/datasets/aclImdb/train/\n",
    "x_train = []\n",
    "y_train =[]\n",
    "root_path = '/root/.keras/datasets/aclImdb/train/'\n",
    "for y_label in ['neg','pos']:\n",
    "  path=os.path.join(root_path,y_label)\n",
    "  for file_name in list(os.listdir(path)):\n",
    "    if file_name[-4:]=='.txt':\n",
    "      f=open(os.path.join(path,file_name), encoding=\"utf8\")\n",
    "      x_train.append(f.read())\n",
    "      f.close()\n",
    "      if y_label =='neg':\n",
    "        y_train.append(0)\n",
    "      else:\n",
    "        y_train.append(1)\n",
    "        "
   ]
  },
  {
   "cell_type": "code",
   "execution_count": 7,
   "metadata": {
    "colab": {
     "base_uri": "https://localhost:8080/"
    },
    "id": "InV_cv79LaKb",
    "outputId": "16a2e102-eedc-4110-864d-2b8b494aaa18"
   },
   "outputs": [
    {
     "name": "stdout",
     "output_type": "stream",
     "text": [
      "(25000,)\n",
      "1\n",
      "I have walked out of very few movies before they end, but I couldn't finish this piece of garbage. This was the biggest load of racism trying to pass as legitimate film since \"Birth of a Nation\". The characters were little more than cardboard cutouts. I don't see how any actor would want their name associated with this film. Lee must have better things to do that put out garbage like this. I know that I and anyone with a brain have better things to do.... like watching paint dry. I wish that someone would make a film about interracial relationships that dealt with the topic realistically. There is a lot more depth to this subject the shallow ranting of a bitter director like Lee.\n"
     ]
    }
   ],
   "source": [
    "print(np.shape(x_train))\n",
    "print(y_train[-1])\n",
    "print(x_train[1])"
   ]
  },
  {
   "cell_type": "code",
   "execution_count": 8,
   "metadata": {
    "colab": {
     "base_uri": "https://localhost:8080/"
    },
    "id": "3jvHSO73lfDU",
    "outputId": "b6260b59-24b1-4cf2-fab8-1364db69e2f3"
   },
   "outputs": [
    {
     "name": "stdout",
     "output_type": "stream",
     "text": [
      "/root/.keras/datasets/aclImdb/test\n"
     ]
    }
   ],
   "source": [
    "%cd /root/.keras/datasets/aclImdb/test/\n",
    "x_test = []\n",
    "y_test =[]\n",
    "root_path = '/root/.keras/datasets/aclImdb/test/'\n",
    "for y_label in ['neg','pos']:\n",
    "  path=os.path.join(root_path,y_label)\n",
    "  for file_name in list(os.listdir(path)):\n",
    "    if file_name[-4:]=='.txt':\n",
    "      f=open(os.path.join(path,file_name), encoding=\"utf8\")\n",
    "      x_test.append(f.read())\n",
    "      f.close()\n",
    "      if y_label =='neg':\n",
    "        y_test.append(0)\n",
    "      else:\n",
    "        y_test.append(1)\n",
    "        "
   ]
  },
  {
   "cell_type": "code",
   "execution_count": 9,
   "metadata": {
    "colab": {
     "base_uri": "https://localhost:8080/"
    },
    "id": "vZquAzZyQoZf",
    "outputId": "a85f9a5f-0f3d-4d55-8fae-2b9e8e4fd7fb"
   },
   "outputs": [
    {
     "name": "stdout",
     "output_type": "stream",
     "text": [
      "(25000,)\n",
      "0\n",
      "The EMPEROR'S NEW GROOVE cast returns for Disney Pictures follow up, but this time the spotlight is on Kronk(voiced by Patrick Warburton), who is no longer Yzma's(Eartha Kitt)henchman. Kronk has started a new life and is very happy with his role as chef of his own restaurant. Things go merrily along until Kronk gets word that his Papi(John Mahoney)is coming for a visit. Kronk is worried, because he knows that his life won't impress his Papi. One thing that he has always wanted and never received is a \"thumbs up\" from his dad. A flurry of blunders and a gigantic cheese explosion in the restaurant leaves our likable hero very deep in trouble and anxiety. To save the day, a little help from his friends.<br /><br />Other voices: Tracey Ullman, David Spade, John Goodman, Wendie Malick, April Winchell and Gatlin Green.\n"
     ]
    }
   ],
   "source": [
    "print(np.shape(x_test))\n",
    "print(y_test[1])\n",
    "print(x_test[1])"
   ]
  },
  {
   "cell_type": "markdown",
   "metadata": {
    "id": "wrIdobQNN6Lo"
   },
   "source": [
    "# preproccessing text data"
   ]
  },
  {
   "cell_type": "code",
   "execution_count": 10,
   "metadata": {
    "colab": {
     "base_uri": "https://localhost:8080/"
    },
    "id": "N8GfqqJwO1HT",
    "outputId": "0abd5344-6242-4304-bcb2-93fa1a0dfaf0"
   },
   "outputs": [
    {
     "name": "stdout",
     "output_type": "stream",
     "text": [
      "Found 88582 unique tokens.\n"
     ]
    }
   ],
   "source": [
    "from keras.preprocessing.text import Tokenizer\n",
    "from keras.preprocessing.sequence import pad_sequences \n",
    "maxlen = 100  # We will cut reviews after 100 words\n",
    "training_samples =20000\n",
    "validation_samples = 1000 \n",
    "max_words = 10000  # We will only consider the top 10,000 words in the dataset\n",
    "\n",
    "tokenizer = Tokenizer(num_words=max_words)\n",
    "tokenizer.fit_on_texts(x_train)\n",
    "sequences = tokenizer.texts_to_sequences(x_train)\n",
    "\n",
    "word_index = tokenizer.word_index\n",
    "print('Found %s unique tokens.' % len(word_index))"
   ]
  },
  {
   "cell_type": "code",
   "execution_count": 11,
   "metadata": {
    "colab": {
     "base_uri": "https://localhost:8080/"
    },
    "id": "cpSGEnq8N5Nv",
    "outputId": "c11ed46d-6f2a-4788-be9f-a34b141b6615"
   },
   "outputs": [
    {
     "name": "stdout",
     "output_type": "stream",
     "text": [
      "Shape of data tensor: (25000, 100)\n",
      "Shape of label tensor: (25000,)\n"
     ]
    }
   ],
   "source": [
    "x_train = pad_sequences(sequences, maxlen=maxlen)\n",
    "y_train = np.asarray(y_train)\n",
    "\n",
    "print('Shape of data tensor:', x_train.shape)\n",
    "print('Shape of label tensor:', y_train.shape)\n",
    "\n",
    "indices = np.arange(x_train.shape[0])\n",
    "np.random.shuffle(indices)\n",
    "\n",
    "data = x_train[indices]\n",
    "label = y_train[indices]\n",
    "\n"
   ]
  },
  {
   "cell_type": "code",
   "execution_count": 12,
   "metadata": {
    "colab": {
     "base_uri": "https://localhost:8080/"
    },
    "id": "RmqoJLTPnArh",
    "outputId": "9eae172f-5170-469f-8e16-eccea81d0d34"
   },
   "outputs": [
    {
     "name": "stdout",
     "output_type": "stream",
     "text": [
      "Shape of data tensor: (20000, 100)\n"
     ]
    }
   ],
   "source": [
    "x_train = data[:training_samples]\n",
    "y_train = label[:training_samples]\n",
    "print('Shape of data tensor:', x_train.shape)"
   ]
  },
  {
   "cell_type": "code",
   "execution_count": 13,
   "metadata": {
    "colab": {
     "base_uri": "https://localhost:8080/"
    },
    "id": "CS5AxvI6oHtp",
    "outputId": "990f8c83-db8f-4eeb-f3b2-638bf3b0e259"
   },
   "outputs": [
    {
     "name": "stdout",
     "output_type": "stream",
     "text": [
      "Shape of data tensor: (1000, 100)\n"
     ]
    }
   ],
   "source": [
    "x_val = data[training_samples: training_samples + validation_samples]\n",
    "y_val = label[training_samples: training_samples + validation_samples]\n",
    "print('Shape of data tensor:', x_val.shape)"
   ]
  },
  {
   "cell_type": "code",
   "execution_count": 13,
   "metadata": {
    "id": "s3jmU8lQoHfB"
   },
   "outputs": [],
   "source": []
  },
  {
   "cell_type": "markdown",
   "metadata": {
    "id": "KDAWRTydLogj"
   },
   "source": [
    "# download pre_trained word embedding"
   ]
  },
  {
   "cell_type": "code",
   "execution_count": 14,
   "metadata": {
    "id": "3pKMwZpnLiJl"
   },
   "outputs": [],
   "source": [
    "embd_path = 'https://nlp.stanford.edu/data/glove.6B.zip'\n",
    "embd = keras.utils.get_file(fname='glove',origin=embd_path,cache_subdir='embd',untar=True)"
   ]
  },
  {
   "cell_type": "code",
   "execution_count": 15,
   "metadata": {
    "colab": {
     "base_uri": "https://localhost:8080/"
    },
    "id": "0yB65YiJF-tB",
    "outputId": "2505d3be-5c9c-47b8-d110-ec3aa2930783"
   },
   "outputs": [
    {
     "name": "stdout",
     "output_type": "stream",
     "text": [
      "/root/.keras/embd\n"
     ]
    }
   ],
   "source": [
    "%cd /root/.keras/embd"
   ]
  },
  {
   "cell_type": "code",
   "execution_count": 16,
   "metadata": {
    "colab": {
     "base_uri": "https://localhost:8080/"
    },
    "id": "X5rUMepaSHIj",
    "outputId": "d3f99714-76c5-4d2c-9286-b7a08a0736be"
   },
   "outputs": [
    {
     "name": "stdout",
     "output_type": "stream",
     "text": [
      "Archive:  glove.tar.gz\n",
      "replace glove.6B.50d.txt? [y]es, [n]o, [A]ll, [N]one, [r]ename: n\n",
      "replace glove.6B.100d.txt? [y]es, [n]o, [A]ll, [N]one, [r]ename: n\n",
      "replace glove.6B.200d.txt? [y]es, [n]o, [A]ll, [N]one, [r]ename: n\n",
      "replace glove.6B.300d.txt? [y]es, [n]o, [A]ll, [N]one, [r]ename: n\n"
     ]
    }
   ],
   "source": [
    "!unzip glove.tar.gz"
   ]
  },
  {
   "cell_type": "markdown",
   "metadata": {
    "id": "K3KhLS8QOaH7"
   },
   "source": [
    "# generate embedding matrix"
   ]
  },
  {
   "cell_type": "code",
   "execution_count": 17,
   "metadata": {
    "colab": {
     "base_uri": "https://localhost:8080/"
    },
    "id": "AuZU-bmISPMu",
    "outputId": "059f93b2-c883-456c-8b58-0754cbefbabf"
   },
   "outputs": [
    {
     "name": "stdout",
     "output_type": "stream",
     "text": [
      "Found 400000 word vectors.\n"
     ]
    }
   ],
   "source": [
    "embeddings_index = {}\n",
    "f = open(os.path.join('/root/.keras/embd/','glove.6B.50d.txt'),encoding=\"utf8\")\n",
    "for line in f:\n",
    "      values = line.split()\n",
    "      word = values[0]\n",
    "      coefs = np.asarray(values[1:], dtype='float32')\n",
    "      embeddings_index[word] = coefs\n",
    "f.close()\n",
    "\n",
    "print('Found %s word vectors.' % len(embeddings_index))\n"
   ]
  },
  {
   "cell_type": "code",
   "execution_count": 18,
   "metadata": {
    "id": "2hvWvcsmsXna"
   },
   "outputs": [],
   "source": [
    "embedding_dim = 50\n",
    "max_words =10000\n",
    "embedding_matrix = np.zeros((max_words, embedding_dim))\n",
    "for word, i in word_index.items():\n",
    "    embedding_vector = embeddings_index.get(word)\n",
    "    if i < max_words:\n",
    "        if embedding_vector is not None:\n",
    "            # Words not found in embedding index will be all-zeros.\n",
    "            embedding_matrix[i] = embedding_vector"
   ]
  },
  {
   "cell_type": "code",
   "execution_count": 19,
   "metadata": {
    "colab": {
     "base_uri": "https://localhost:8080/"
    },
    "id": "TL2AgpNIPfQ-",
    "outputId": "f5933c4d-3a85-479c-d4d4-000f83037d43"
   },
   "outputs": [
    {
     "data": {
      "text/plain": [
       "(20000, 100)"
      ]
     },
     "execution_count": 19,
     "metadata": {},
     "output_type": "execute_result"
    }
   ],
   "source": [
    "# sequences[1]\n",
    "# word_index\n",
    "x_train.shape"
   ]
  },
  {
   "cell_type": "markdown",
   "metadata": {
    "id": "6bYWiJZJWrhb"
   },
   "source": [
    "# creat model"
   ]
  },
  {
   "cell_type": "code",
   "execution_count": 20,
   "metadata": {
    "colab": {
     "base_uri": "https://localhost:8080/"
    },
    "id": "9wW2VsBgQDFc",
    "outputId": "0724b132-e6e3-43e8-f1c0-a0cc49011ab3"
   },
   "outputs": [
    {
     "name": "stdout",
     "output_type": "stream",
     "text": [
      "Model: \"sequential\"\n",
      "_________________________________________________________________\n",
      " Layer (type)                Output Shape              Param #   \n",
      "=================================================================\n",
      " embedding (Embedding)       (None, 100, 50)           500000    \n",
      "                                                                 \n",
      " flatten (Flatten)           (None, 5000)              0         \n",
      "                                                                 \n",
      " dense (Dense)               (None, 32)                160032    \n",
      "                                                                 \n",
      " dense_1 (Dense)             (None, 1)                 33        \n",
      "                                                                 \n",
      "=================================================================\n",
      "Total params: 660,065\n",
      "Trainable params: 660,065\n",
      "Non-trainable params: 0\n",
      "_________________________________________________________________\n",
      "Epoch 1/10\n",
      "625/625 [==============================] - 8s 12ms/step - loss: 0.4443 - acc: 0.7828 - val_loss: 0.3689 - val_acc: 0.8280\n",
      "Epoch 2/10\n",
      "625/625 [==============================] - 8s 13ms/step - loss: 0.1817 - acc: 0.9320 - val_loss: 0.4220 - val_acc: 0.8160\n",
      "Epoch 3/10\n",
      "625/625 [==============================] - 8s 13ms/step - loss: 0.0396 - acc: 0.9893 - val_loss: 0.6090 - val_acc: 0.8060\n",
      "Epoch 4/10\n",
      "625/625 [==============================] - 8s 13ms/step - loss: 0.0041 - acc: 0.9987 - val_loss: 0.8407 - val_acc: 0.7960\n",
      "Epoch 5/10\n",
      "625/625 [==============================] - 8s 13ms/step - loss: 3.5354e-04 - acc: 0.9999 - val_loss: 1.0246 - val_acc: 0.8050\n",
      "Epoch 6/10\n",
      "625/625 [==============================] - 8s 13ms/step - loss: 1.2943e-05 - acc: 1.0000 - val_loss: 1.2502 - val_acc: 0.8100\n",
      "Epoch 7/10\n",
      "625/625 [==============================] - 7s 11ms/step - loss: 4.1905e-06 - acc: 1.0000 - val_loss: 1.2701 - val_acc: 0.8110\n",
      "Epoch 8/10\n",
      "625/625 [==============================] - 7s 11ms/step - loss: 2.5193e-08 - acc: 1.0000 - val_loss: 1.3286 - val_acc: 0.8070\n",
      "Epoch 9/10\n",
      "625/625 [==============================] - 6s 10ms/step - loss: 4.4517e-09 - acc: 1.0000 - val_loss: 1.3359 - val_acc: 0.8090\n",
      "Epoch 10/10\n",
      "625/625 [==============================] - 7s 11ms/step - loss: 3.3724e-09 - acc: 1.0000 - val_loss: 1.3543 - val_acc: 0.8090\n"
     ]
    }
   ],
   "source": [
    "from keras.models import Sequential\n",
    "from keras.layers import Embedding, Flatten, Dense\n",
    "\n",
    "model = Sequential()\n",
    "model.add(Embedding(max_words, embedding_dim, input_length=maxlen))\n",
    "model.add(Flatten())\n",
    "model.add(Dense(32, activation='relu'))\n",
    "model.add(Dense(1, activation='sigmoid'))\n",
    "model.summary()\n",
    "\n",
    "model.compile(optimizer='rmsprop',\n",
    "              loss='binary_crossentropy',\n",
    "              metrics=['acc'])\n",
    "history = model.fit(x_train, y_train,\n",
    "                    epochs=10,\n",
    "                    batch_size=32,\n",
    "                    validation_data=(x_val, y_val))"
   ]
  },
  {
   "cell_type": "code",
   "execution_count": 21,
   "metadata": {
    "id": "bgglmvEkb4oP"
   },
   "outputs": [],
   "source": [
    "model.layers[0].set_weights([embedding_matrix])\n",
    "model.layers[0].trainable = False"
   ]
  },
  {
   "cell_type": "code",
   "execution_count": 22,
   "metadata": {
    "colab": {
     "base_uri": "https://localhost:8080/"
    },
    "id": "WNxRVu5ecE8v",
    "outputId": "8cd6e8c6-51bc-41d1-b450-a1c691d3ba35"
   },
   "outputs": [
    {
     "name": "stdout",
     "output_type": "stream",
     "text": [
      "Epoch 1/10\n",
      "625/625 [==============================] - 3s 5ms/step - loss: 1.0021 - acc: 0.4996 - val_loss: 0.6934 - val_acc: 0.4860\n",
      "Epoch 2/10\n",
      "625/625 [==============================] - 3s 5ms/step - loss: 0.6936 - acc: 0.5009 - val_loss: 0.6934 - val_acc: 0.5140\n",
      "Epoch 3/10\n",
      "625/625 [==============================] - 7s 11ms/step - loss: 0.6935 - acc: 0.4978 - val_loss: 0.6938 - val_acc: 0.4860\n",
      "Epoch 4/10\n",
      "625/625 [==============================] - 7s 11ms/step - loss: 0.6917 - acc: 0.5042 - val_loss: 0.6947 - val_acc: 0.4870\n",
      "Epoch 5/10\n",
      "625/625 [==============================] - 7s 11ms/step - loss: 0.6910 - acc: 0.4991 - val_loss: 0.7101 - val_acc: 0.4890\n",
      "Epoch 6/10\n",
      "625/625 [==============================] - 7s 11ms/step - loss: 0.6840 - acc: 0.5418 - val_loss: 0.7047 - val_acc: 0.5670\n",
      "Epoch 7/10\n",
      "625/625 [==============================] - 7s 11ms/step - loss: 0.6538 - acc: 0.5982 - val_loss: 0.6859 - val_acc: 0.5700\n",
      "Epoch 8/10\n",
      "625/625 [==============================] - 7s 11ms/step - loss: 0.6178 - acc: 0.6494 - val_loss: 0.6727 - val_acc: 0.6320\n",
      "Epoch 9/10\n",
      "625/625 [==============================] - 7s 11ms/step - loss: 0.5760 - acc: 0.6893 - val_loss: 0.6950 - val_acc: 0.6220\n",
      "Epoch 10/10\n",
      "625/625 [==============================] - 7s 11ms/step - loss: 0.5427 - acc: 0.7240 - val_loss: 0.6579 - val_acc: 0.6600\n"
     ]
    }
   ],
   "source": [
    "model.compile(optimizer='rmsprop',\n",
    "              loss='binary_crossentropy',\n",
    "              metrics=['acc'])\n",
    "history = model.fit(x_train, y_train,\n",
    "                    epochs=10,\n",
    "                    batch_size=32,\n",
    "                    validation_data=(x_val, y_val))\n",
    "model.save_weights('pre_trained_glove_model.h5')\n"
   ]
  },
  {
   "cell_type": "code",
   "execution_count": 23,
   "metadata": {
    "colab": {
     "base_uri": "https://localhost:8080/",
     "height": 545
    },
    "id": "k6FaXs3UcHBg",
    "outputId": "011fd5af-8336-43ca-c081-6d7e79376372"
   },
   "outputs": [
    {
     "data": {
      "image/png": "[encoded data removed]",
      "text/plain": [
       "<Figure size 432x288 with 1 Axes>"
      ]
     },
     "metadata": {
      "needs_background": "light"
     },
     "output_type": "display_data"
    },
    {
     "data": {
      "image/png": "[encoded data removed]",
      "text/plain": [
       "<Figure size 432x288 with 1 Axes>"
      ]
     },
     "metadata": {
      "needs_background": "light"
     },
     "output_type": "display_data"
    }
   ],
   "source": [
    "import matplotlib.pyplot as plt\n",
    "acc = history.history['acc']\n",
    "val_acc = history.history['val_acc']\n",
    "loss = history.history['loss']\n",
    "val_loss = history.history['val_loss']\n",
    "\n",
    "epochs = range(1, len(acc) + 1)\n",
    "\n",
    "plt.plot(epochs, acc, 'bo', label='Training acc')\n",
    "plt.plot(epochs, val_acc, 'b', label='Validation acc')\n",
    "plt.title('Training and validation accuracy')\n",
    "plt.legend()\n",
    "\n",
    "plt.figure()\n",
    "\n",
    "plt.plot(epochs, loss, 'bo', label='Training loss')\n",
    "plt.plot(epochs, val_loss, 'b', label='Validation loss')\n",
    "plt.title('Training and validation loss')\n",
    "plt.legend()\n",
    "\n",
    "plt.show()"
   ]
  },
  {
   "cell_type": "markdown",
   "metadata": {
    "id": "wvHeo6yXqF_T"
   },
   "source": [
    "# evaluate on test set"
   ]
  },
  {
   "cell_type": "code",
   "execution_count": 24,
   "metadata": {
    "id": "pYCK15VCcvWm"
   },
   "outputs": [],
   "source": [
    "sequences = tokenizer.texts_to_sequences(x_test)\n",
    "x_test = pad_sequences(sequences, maxlen=maxlen)\n",
    "y_test = np.asarray(y_test)"
   ]
  },
  {
   "cell_type": "code",
   "execution_count": 25,
   "metadata": {
    "colab": {
     "base_uri": "https://localhost:8080/"
    },
    "id": "vKtffZq3p95m",
    "outputId": "83101eac-5870-4c7a-a3e4-86c2e4286cb5"
   },
   "outputs": [
    {
     "name": "stdout",
     "output_type": "stream",
     "text": [
      "782/782 [==============================] - 2s 2ms/step - loss: 0.6496 - acc: 0.6652\n"
     ]
    },
    {
     "data": {
      "text/plain": [
       "[0.6495718955993652, 0.6652399897575378]"
      ]
     },
     "execution_count": 25,
     "metadata": {},
     "output_type": "execute_result"
    }
   ],
   "source": [
    "model.load_weights('pre_trained_glove_model.h5')\n",
    "model.evaluate(x_test, y_test)"
   ]
  },
  {
   "cell_type": "code",
   "execution_count": 25,
   "metadata": {
    "id": "wQZy1B9kqCIy"
   },
   "outputs": [],
   "source": []
  }
 ],
 "metadata": {
  "colab": {
   "name": "sentiment analysis.ipynb",
   "provenance": []
  },
  "kernelspec": {
   "display_name": "Python 3 (ipykernel)",
   "language": "python",
   "name": "python3"
  },
  "language_info": {
   "codemirror_mode": {
    "name": "ipython",
    "version": 3
   },
   "file_extension": ".py",
   "mimetype": "text/x-python",
   "name": "python",
   "nbconvert_exporter": "python",
   "pygments_lexer": "ipython3",
   "version": "3.9.7"
  }
 },
 "nbformat": 4,
 "nbformat_minor": 4
}
