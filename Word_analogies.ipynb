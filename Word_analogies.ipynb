{
 "cells": [
  {
   "cell_type": "code",
   "execution_count": 1,
   "metadata": {
    "id": "d7E0QHYCtRTn"
   },
   "outputs": [],
   "source": [
    "import numpy as np\n",
    "import os"
   ]
  },
  {
   "cell_type": "code",
   "execution_count": 4,
   "metadata": {
    "colab": {
     "base_uri": "https://localhost:8080/"
    },
    "id": "tgAtI5Z6ySBr",
    "outputId": "2f8f0708-d116-43cb-f328-35531c6d1d25"
   },
   "outputs": [
    {
     "name": "stdout",
     "output_type": "stream",
     "text": [
      "--2022-04-19 12:26:29--  https://nlp.stanford.edu/data/glove.6B.zip\n",
      "Resolving nlp.stanford.edu (nlp.stanford.edu)... 171.64.67.140\n",
      "Connecting to nlp.stanford.edu (nlp.stanford.edu)|171.64.67.140|:443... connected.\n",
      "HTTP request sent, awaiting response... 301 Moved Permanently\n",
      "Location: http://downloads.cs.stanford.edu/nlp/data/glove.6B.zip [following]\n",
      "--2022-04-19 12:26:30--  http://downloads.cs.stanford.edu/nlp/data/glove.6B.zip\n",
      "Resolving downloads.cs.stanford.edu (downloads.cs.stanford.edu)... 171.64.64.22\n",
      "Connecting to downloads.cs.stanford.edu (downloads.cs.stanford.edu)|171.64.64.22|:80... connected.\n",
      "HTTP request sent, awaiting response... 200 OK\n",
      "Length: 862182613 (822M) [application/zip]\n",
      "Saving to: ‘glove.6B.zip’\n",
      "\n",
      "glove.6B.zip        100%[===================>] 822.24M  5.18MB/s    in 2m 40s  \n",
      "\n",
      "2022-04-19 12:29:10 (5.14 MB/s) - ‘glove.6B.zip’ saved [862182613/862182613]\n",
      "\n"
     ]
    }
   ],
   "source": [
    "! wget https://nlp.stanford.edu/data/glove.6B.zip"
   ]
  },
  {
   "cell_type": "code",
   "execution_count": 5,
   "metadata": {
    "colab": {
     "base_uri": "https://localhost:8080/"
    },
    "id": "9k-5LJJFyVP-",
    "outputId": "f7098ae0-1d83-4d34-f026-bc07eaeab735"
   },
   "outputs": [
    {
     "name": "stdout",
     "output_type": "stream",
     "text": [
      "Archive:  glove.6B.zip\n",
      "  inflating: glove.6B.50d.txt        \n",
      "  inflating: glove.6B.100d.txt       \n",
      "  inflating: glove.6B.200d.txt       \n",
      "  inflating: glove.6B.300d.txt       \n"
     ]
    }
   ],
   "source": [
    "!unzip glove.6B.zip"
   ]
  },
  {
   "cell_type": "code",
   "execution_count": 9,
   "metadata": {
    "id": "dbkht130zjY2"
   },
   "outputs": [],
   "source": [
    "embedding_matrix = {}\n",
    "f= open('/content/glove.6B.50d.txt',encoding='utf8')\n",
    "for line in f:\n",
    "  row=line.split()\n",
    "  word=row[0]\n",
    "  coef=np.asarray(row[1:],dtype='float32')\n",
    "  embedding_matrix[word] = coef\n",
    "f.close()"
   ]
  },
  {
   "cell_type": "code",
   "execution_count": 10,
   "metadata": {
    "colab": {
     "base_uri": "https://localhost:8080/"
    },
    "id": "Nbi-JCUC03pC",
    "outputId": "2047930a-3242-4198-c9e2-aa15c24c2d47"
   },
   "outputs": [
    {
     "data": {
      "text/plain": [
       "array([ 0.095496 ,  0.70418  , -0.40777  , -0.80844  ,  1.256    ,\n",
       "        0.77071  , -1.0695   ,  0.76847  , -0.87813  , -0.0080954,\n",
       "        0.43884  ,  1.0476   , -0.45071  , -0.58931  ,  0.83246  ,\n",
       "       -0.038442 , -0.73533  ,  0.26389  ,  0.12617  ,  0.57623  ,\n",
       "       -0.23866  ,  1.0922   , -0.3367   ,  0.081537 ,  0.84798  ,\n",
       "       -2.4795   , -0.40351  , -0.84087  ,  0.12034  ,  0.29074  ,\n",
       "        1.9711   , -0.50886  , -0.45977  , -0.13617  ,  0.55613  ,\n",
       "        0.22924  , -0.18947  ,  0.43544  ,  0.65151  ,  0.043537 ,\n",
       "       -0.1162   ,  0.72196  , -0.66163  , -0.17272  ,  0.27367  ,\n",
       "       -0.28169  , -0.82025  , -1.5089   ,  0.052787 , -0.035579 ],\n",
       "      dtype=float32)"
      ]
     },
     "execution_count": 10,
     "metadata": {},
     "output_type": "execute_result"
    }
   ],
   "source": [
    "embedding_matrix ['father']"
   ]
  },
  {
   "cell_type": "markdown",
   "metadata": {
    "id": "9yIuZDEp1l-N"
   },
   "source": [
    "# cosine similarity"
   ]
  },
  {
   "cell_type": "code",
   "execution_count": 11,
   "metadata": {
    "id": "QPb6zlS41hid"
   },
   "outputs": [],
   "source": [
    "import sklearn\n",
    "from sklearn.metrics.pairwise import cosine_similarity"
   ]
  },
  {
   "cell_type": "code",
   "execution_count": 13,
   "metadata": {
    "id": "W-Kxop-72vgF"
   },
   "outputs": [],
   "source": [
    "father = embedding_matrix['father']\n",
    "mother = embedding_matrix['mother']\n",
    "boy = embedding_matrix['boy']\n",
    "girl = embedding_matrix ['girl']"
   ]
  },
  {
   "cell_type": "code",
   "execution_count": 22,
   "metadata": {
    "id": "_aGYkyJO3PCg"
   },
   "outputs": [],
   "source": [
    "def similarity(u, v):\n",
    "    return np.squeeze(cosine_similarity(u.reshape(1, -1), v.reshape(1, -1)))"
   ]
  },
  {
   "cell_type": "code",
   "execution_count": 26,
   "metadata": {
    "colab": {
     "base_uri": "https://localhost:8080/"
    },
    "id": "VcsdZUXp22as",
    "outputId": "0c783828-08a6-4ed1-b5be-bba7205059b1"
   },
   "outputs": [
    {
     "name": "stdout",
     "output_type": "stream",
     "text": [
      "0.89090383\n"
     ]
    }
   ],
   "source": [
    "print(similarity(father,mother))"
   ]
  },
  {
   "cell_type": "code",
   "execution_count": 31,
   "metadata": {
    "id": "1Xt4rnNr3Jn_"
   },
   "outputs": [],
   "source": [
    "print(similarity(boy,girl))"
   ]
  },
  {
   "cell_type": "code",
   "execution_count": 29,
   "metadata": {
    "colab": {
     "base_uri": "https://localhost:8080/"
    },
    "id": "PgQtJfTO47Yk",
    "outputId": "61992ca2-9fe7-4efa-ab27-fc5017a5ff52"
   },
   "outputs": [
    {
     "name": "stdout",
     "output_type": "stream",
     "text": [
      "cosine_similarity(france - paris, rome - italy) =  -0.67514795\n"
     ]
    }
   ],
   "source": [
    "france = embedding_matrix[\"france\"]\n",
    "italy = embedding_matrix[\"italy\"]\n",
    "paris = embedding_matrix[\"paris\"]\n",
    "rome = embedding_matrix[\"rome\"]\n",
    "print(\"cosine_similarity(france - paris, rome - italy) = \",similarity(france - paris, rome - italy))"
   ]
  },
  {
   "cell_type": "code",
   "execution_count": 31,
   "metadata": {
    "id": "B-o3FOAH5SKi"
   },
   "outputs": [],
   "source": []
  },
  {
   "cell_type": "code",
   "execution_count": 31,
   "metadata": {
    "id": "cshk0s-85734"
   },
   "outputs": [],
   "source": []
  },
  {
   "cell_type": "code",
   "execution_count": null,
   "metadata": {
    "id": "2QEmtxSa6DLJ"
   },
   "outputs": [],
   "source": []
  }
 ],
 "metadata": {
  "colab": {
   "name": "Word analogies.ipynb",
   "provenance": []
  },
  "kernelspec": {
   "display_name": "Python 3 (ipykernel)",
   "language": "python",
   "name": "python3"
  },
  "language_info": {
   "codemirror_mode": {
    "name": "ipython",
    "version": 3
   },
   "file_extension": ".py",
   "mimetype": "text/x-python",
   "name": "python",
   "nbconvert_exporter": "python",
   "pygments_lexer": "ipython3",
   "version": "3.9.7"
  }
 },
 "nbformat": 4,
 "nbformat_minor": 4
}
