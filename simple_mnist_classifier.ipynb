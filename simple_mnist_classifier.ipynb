{
 "cells": [
  {
   "cell_type": "code",
   "execution_count": 4,
   "metadata": {
    "id": "qjcdViNBakTL"
   },
   "outputs": [],
   "source": [
    "import tensorflow as tf"
   ]
  },
  {
   "cell_type": "code",
   "execution_count": 2,
   "metadata": {
    "id": "3pZrvwyvanJG"
   },
   "outputs": [],
   "source": [
    "from tensorflow import keras"
   ]
  },
  {
   "cell_type": "code",
   "execution_count": 13,
   "metadata": {
    "id": "HqXE0y4Uc9M2"
   },
   "outputs": [],
   "source": [
    "from tensorflow.keras import layers\n"
   ]
  },
  {
   "cell_type": "code",
   "execution_count": 14,
   "metadata": {
    "id": "Xjls3BV-dGdA"
   },
   "outputs": [],
   "source": [
    "import matplotlib.pyplot as plt\n",
    "import numpy as np"
   ]
  },
  {
   "cell_type": "code",
   "execution_count": 49,
   "metadata": {
    "id": "mD7aJj1BauWe"
   },
   "outputs": [],
   "source": [
    "(x_train, y_train), (x_test, y_test) = tf.keras.datasets.fashion_mnist.load_data()"
   ]
  },
  {
   "cell_type": "code",
   "execution_count": 17,
   "metadata": {
    "colab": {
     "base_uri": "https://localhost:8080/",
     "height": 282
    },
    "id": "nX_LDpqgdFzg",
    "outputId": "4b32b0a9-5944-43ba-a01a-2a71d4f29bcf"
   },
   "outputs": [
    {
     "data": {
      "text/plain": [
       "<matplotlib.image.AxesImage at 0x7fec6aa69b50>"
      ]
     },
     "execution_count": 17,
     "metadata": {},
     "output_type": "execute_result"
    },
    {
     "data": {
      "image/png": "[encoded data removed]",
      "text/plain": [
       "<Figure size 432x288 with 1 Axes>"
      ]
     },
     "metadata": {
      "needs_background": "light"
     },
     "output_type": "display_data"
    }
   ],
   "source": [
    "plt.imshow(x_train[1],cmap='Greys')"
   ]
  },
  {
   "cell_type": "code",
   "execution_count": 50,
   "metadata": {
    "colab": {
     "base_uri": "https://localhost:8080/"
    },
    "id": "jco8Mn_1a9qS",
    "outputId": "ca349593-d37f-4884-d9d5-0ad3cd59b685"
   },
   "outputs": [
    {
     "data": {
      "text/plain": [
       "(10000, 28, 28)"
      ]
     },
     "execution_count": 50,
     "metadata": {},
     "output_type": "execute_result"
    }
   ],
   "source": [
    "x_test.shape"
   ]
  },
  {
   "cell_type": "code",
   "execution_count": 51,
   "metadata": {
    "id": "JmitSWBYbSEQ"
   },
   "outputs": [],
   "source": [
    "x_train=x_train.astype('float32')/255\n",
    "x_test = x_test.astype('float32')/255"
   ]
  },
  {
   "cell_type": "code",
   "execution_count": 52,
   "metadata": {
    "id": "w4M1s8eAb5tT"
   },
   "outputs": [],
   "source": [
    "# Make sure images have shape (28, 28, 1)\n",
    "x_train=np.expand_dims(x_train,-1)\n",
    "x_test=np.expand_dims(x_test,-1)"
   ]
  },
  {
   "cell_type": "code",
   "execution_count": 53,
   "metadata": {
    "colab": {
     "base_uri": "https://localhost:8080/"
    },
    "id": "ADAhF159itPI",
    "outputId": "4411b5fb-c527-4cb7-b476-14d524d5f85c"
   },
   "outputs": [
    {
     "data": {
      "text/plain": [
       "(10000, 28, 28, 1)"
      ]
     },
     "execution_count": 53,
     "metadata": {},
     "output_type": "execute_result"
    }
   ],
   "source": [
    "x_test.shape"
   ]
  },
  {
   "cell_type": "code",
   "execution_count": 54,
   "metadata": {
    "id": "U14bHh9mcAik"
   },
   "outputs": [],
   "source": [
    "y_train = keras.utils.to_categorical(y_train,num_classes=10)\n",
    "y_test = keras.utils.to_categorical(y_test,num_classes=10)"
   ]
  },
  {
   "cell_type": "code",
   "execution_count": 55,
   "metadata": {
    "colab": {
     "base_uri": "https://localhost:8080/"
    },
    "id": "THV__e1zisd3",
    "outputId": "816d2bc0-9887-42a1-d9c1-d8f14fc145d7"
   },
   "outputs": [
    {
     "data": {
      "text/plain": [
       "array([1., 0., 0., 0., 0., 0., 0., 0., 0., 0.], dtype=float32)"
      ]
     },
     "execution_count": 55,
     "metadata": {},
     "output_type": "execute_result"
    }
   ],
   "source": [
    "y_train[1]"
   ]
  },
  {
   "cell_type": "code",
   "execution_count": 63,
   "metadata": {
    "id": "5XDxtTGViH7v"
   },
   "outputs": [],
   "source": [
    "imput_shape=(28,28,1)\n",
    "num_class=10\n",
    "model =keras.Sequential([\n",
    "    layers.Input(imput_shape),\n",
    "    layers.Conv2D(32,kernel_size=(3,3),activation='relu'),\n",
    "    layers.MaxPooling2D((2,2)),\n",
    "    layers.Conv2D(64,kernel_size=(3,3),activation='relu'),\n",
    "    layers.MaxPooling2D((2,2)),\n",
    "    layers.Flatten(),\n",
    "    layers.Dropout(0.5),\n",
    "    layers.Dense(num_class,activation='softmax')]\n",
    ")"
   ]
  },
  {
   "cell_type": "code",
   "execution_count": 64,
   "metadata": {
    "colab": {
     "base_uri": "https://localhost:8080/"
    },
    "id": "b7ny-oHIg3Cl",
    "outputId": "9aa8e9e8-65ea-46c6-b717-ed51f9e59fe9"
   },
   "outputs": [
    {
     "name": "stdout",
     "output_type": "stream",
     "text": [
      "Model: \"sequential\"\n",
      "_________________________________________________________________\n",
      " Layer (type)                Output Shape              Param #   \n",
      "=================================================================\n",
      " conv2d_7 (Conv2D)           (None, 26, 26, 32)        320       \n",
      "                                                                 \n",
      " max_pooling2d_5 (MaxPooling  (None, 13, 13, 32)       0         \n",
      " 2D)                                                             \n",
      "                                                                 \n",
      " conv2d_8 (Conv2D)           (None, 11, 11, 64)        18496     \n",
      "                                                                 \n",
      " max_pooling2d_6 (MaxPooling  (None, 5, 5, 64)         0         \n",
      " 2D)                                                             \n",
      "                                                                 \n",
      " flatten_1 (Flatten)         (None, 1600)              0         \n",
      "                                                                 \n",
      " dropout_1 (Dropout)         (None, 1600)              0         \n",
      "                                                                 \n",
      " dense_1 (Dense)             (None, 10)                16010     \n",
      "                                                                 \n",
      "=================================================================\n",
      "Total params: 34,826\n",
      "Trainable params: 34,826\n",
      "Non-trainable params: 0\n",
      "_________________________________________________________________\n"
     ]
    }
   ],
   "source": [
    "model.summary()"
   ]
  },
  {
   "cell_type": "code",
   "execution_count": 65,
   "metadata": {
    "id": "lCFmUiVThEMD"
   },
   "outputs": [],
   "source": [
    "batch_size=128\n",
    "epoch=15\n",
    "model.compile(optimizer='adam',loss='categorical_crossentropy',metrics='accuracy')"
   ]
  },
  {
   "cell_type": "code",
   "execution_count": 66,
   "metadata": {
    "colab": {
     "base_uri": "https://localhost:8080/"
    },
    "id": "fZs8HrZviD0E",
    "outputId": "054a39a4-893c-4889-efdb-6e5550eff579"
   },
   "outputs": [
    {
     "name": "stdout",
     "output_type": "stream",
     "text": [
      "Epoch 1/15\n",
      "422/422 [==============================] - 43s 100ms/step - loss: 0.6936 - accuracy: 0.7491 - val_loss: 0.4444 - val_accuracy: 0.8352\n",
      "Epoch 2/15\n",
      "422/422 [==============================] - 42s 99ms/step - loss: 0.4562 - accuracy: 0.8365 - val_loss: 0.3902 - val_accuracy: 0.8593\n",
      "Epoch 3/15\n",
      "422/422 [==============================] - 48s 113ms/step - loss: 0.4130 - accuracy: 0.8513 - val_loss: 0.3750 - val_accuracy: 0.8680\n",
      "Epoch 4/15\n",
      "422/422 [==============================] - 47s 112ms/step - loss: 0.3830 - accuracy: 0.8622 - val_loss: 0.3448 - val_accuracy: 0.8758\n",
      "Epoch 5/15\n",
      "422/422 [==============================] - 45s 108ms/step - loss: 0.3617 - accuracy: 0.8706 - val_loss: 0.3348 - val_accuracy: 0.8798\n",
      "Epoch 6/15\n",
      "422/422 [==============================] - 45s 107ms/step - loss: 0.3435 - accuracy: 0.8757 - val_loss: 0.3076 - val_accuracy: 0.8862\n",
      "Epoch 7/15\n",
      "422/422 [==============================] - 42s 99ms/step - loss: 0.3322 - accuracy: 0.8804 - val_loss: 0.3045 - val_accuracy: 0.8888\n",
      "Epoch 8/15\n",
      "422/422 [==============================] - 42s 99ms/step - loss: 0.3188 - accuracy: 0.8846 - val_loss: 0.2957 - val_accuracy: 0.8917\n",
      "Epoch 9/15\n",
      "422/422 [==============================] - 42s 100ms/step - loss: 0.3108 - accuracy: 0.8875 - val_loss: 0.2975 - val_accuracy: 0.8918\n",
      "Epoch 10/15\n",
      "422/422 [==============================] - 42s 99ms/step - loss: 0.3035 - accuracy: 0.8907 - val_loss: 0.2755 - val_accuracy: 0.8992\n",
      "Epoch 11/15\n",
      "422/422 [==============================] - 42s 99ms/step - loss: 0.2937 - accuracy: 0.8934 - val_loss: 0.2768 - val_accuracy: 0.9005\n",
      "Epoch 12/15\n",
      "422/422 [==============================] - 41s 98ms/step - loss: 0.2869 - accuracy: 0.8952 - val_loss: 0.2747 - val_accuracy: 0.8992\n",
      "Epoch 13/15\n",
      "422/422 [==============================] - 41s 98ms/step - loss: 0.2814 - accuracy: 0.8981 - val_loss: 0.2681 - val_accuracy: 0.9047\n",
      "Epoch 14/15\n",
      "422/422 [==============================] - 41s 98ms/step - loss: 0.2771 - accuracy: 0.8988 - val_loss: 0.2804 - val_accuracy: 0.8927\n",
      "Epoch 15/15\n",
      "422/422 [==============================] - 41s 98ms/step - loss: 0.2708 - accuracy: 0.9009 - val_loss: 0.2616 - val_accuracy: 0.9052\n"
     ]
    },
    {
     "data": {
      "text/plain": [
       "<keras.callbacks.History at 0x7fec6624d690>"
      ]
     },
     "execution_count": 66,
     "metadata": {},
     "output_type": "execute_result"
    }
   ],
   "source": [
    "model.fit(x_train, y_train, batch_size=batch_size, epochs=epoch, validation_split=0.1)\n"
   ]
  },
  {
   "cell_type": "code",
   "execution_count": 67,
   "metadata": {
    "colab": {
     "base_uri": "https://localhost:8080/"
    },
    "id": "CPuk5fs648lF",
    "outputId": "ed083f41-49ab-4090-feee-b2279f9a3c85"
   },
   "outputs": [
    {
     "name": "stdout",
     "output_type": "stream",
     "text": [
      "313/313 [==============================] - 3s 9ms/step - loss: 0.2771 - accuracy: 0.8991\n",
      "test loss: 0.27708983421325684\n",
      "test accuracy: 0.8991000056266785\n"
     ]
    }
   ],
   "source": [
    "score = model.evaluate(x_test,y_test)\n",
    "print('test loss:',score[0])\n",
    "print('test accuracy:', score[1])"
   ]
  }
 ],
 "metadata": {
  "colab": {
   "name": "simple mnist classifier.ipynb",
   "provenance": []
  },
  "kernelspec": {
   "display_name": "Python 3 (ipykernel)",
   "language": "python",
   "name": "python3"
  },
  "language_info": {
   "codemirror_mode": {
    "name": "ipython",
    "version": 3
   },
   "file_extension": ".py",
   "mimetype": "text/x-python",
   "name": "python",
   "nbconvert_exporter": "python",
   "pygments_lexer": "ipython3",
   "version": "3.9.7"
  }
 },
 "nbformat": 4,
 "nbformat_minor": 4
}
