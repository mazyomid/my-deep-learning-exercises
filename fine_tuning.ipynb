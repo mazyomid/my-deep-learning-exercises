{
  "nbformat": 4,
  "nbformat_minor": 0,
  "metadata": {
    "colab": {
      "name": "fine tuning.ipynb",
      "provenance": [],
      "collapsed_sections": []
    },
    "kernelspec": {
      "name": "python3",
      "display_name": "Python 3"
    },
    "language_info": {
      "name": "python"
    }
  },
  "cells": [
    {
      "cell_type": "code",
      "execution_count": 1,
      "metadata": {
        "id": "E80JgJs4k43Y"
      },
      "outputs": [],
      "source": [
        "import tensorflow"
      ]
    },
    {
      "cell_type": "code",
      "source": [
        "from tensorflow import keras"
      ],
      "metadata": {
        "id": "_MnYdyZPlPr-"
      },
      "execution_count": 2,
      "outputs": []
    },
    {
      "cell_type": "code",
      "source": [
        "from tensorflow.keras.applications import vgg16"
      ],
      "metadata": {
        "id": "Ie6zBAnSlS1q"
      },
      "execution_count": 3,
      "outputs": []
    },
    {
      "cell_type": "code",
      "source": [
        "model=vgg16.VGG16(weights='imagenet')"
      ],
      "metadata": {
        "id": "dFya_vmrld73"
      },
      "execution_count": 4,
      "outputs": []
    },
    {
      "cell_type": "code",
      "source": [
        "model.summary()"
      ],
      "metadata": {
        "colab": {
          "base_uri": "https://localhost:8080/"
        },
        "id": "o33k6UfHllNC",
        "outputId": "fc682b80-f1d3-4be9-fb0e-d79e38b58f94"
      },
      "execution_count": 5,
      "outputs": [
        {
          "output_type": "stream",
          "name": "stdout",
          "text": [
            "Model: \"vgg16\"\n",
            "_________________________________________________________________\n",
            " Layer (type)                Output Shape              Param #   \n",
            "=================================================================\n",
            " input_1 (InputLayer)        [(None, 224, 224, 3)]     0         \n",
            "                                                                 \n",
            " block1_conv1 (Conv2D)       (None, 224, 224, 64)      1792      \n",
            "                                                                 \n",
            " block1_conv2 (Conv2D)       (None, 224, 224, 64)      36928     \n",
            "                                                                 \n",
            " block1_pool (MaxPooling2D)  (None, 112, 112, 64)      0         \n",
            "                                                                 \n",
            " block2_conv1 (Conv2D)       (None, 112, 112, 128)     73856     \n",
            "                                                                 \n",
            " block2_conv2 (Conv2D)       (None, 112, 112, 128)     147584    \n",
            "                                                                 \n",
            " block2_pool (MaxPooling2D)  (None, 56, 56, 128)       0         \n",
            "                                                                 \n",
            " block3_conv1 (Conv2D)       (None, 56, 56, 256)       295168    \n",
            "                                                                 \n",
            " block3_conv2 (Conv2D)       (None, 56, 56, 256)       590080    \n",
            "                                                                 \n",
            " block3_conv3 (Conv2D)       (None, 56, 56, 256)       590080    \n",
            "                                                                 \n",
            " block3_pool (MaxPooling2D)  (None, 28, 28, 256)       0         \n",
            "                                                                 \n",
            " block4_conv1 (Conv2D)       (None, 28, 28, 512)       1180160   \n",
            "                                                                 \n",
            " block4_conv2 (Conv2D)       (None, 28, 28, 512)       2359808   \n",
            "                                                                 \n",
            " block4_conv3 (Conv2D)       (None, 28, 28, 512)       2359808   \n",
            "                                                                 \n",
            " block4_pool (MaxPooling2D)  (None, 14, 14, 512)       0         \n",
            "                                                                 \n",
            " block5_conv1 (Conv2D)       (None, 14, 14, 512)       2359808   \n",
            "                                                                 \n",
            " block5_conv2 (Conv2D)       (None, 14, 14, 512)       2359808   \n",
            "                                                                 \n",
            " block5_conv3 (Conv2D)       (None, 14, 14, 512)       2359808   \n",
            "                                                                 \n",
            " block5_pool (MaxPooling2D)  (None, 7, 7, 512)         0         \n",
            "                                                                 \n",
            " flatten (Flatten)           (None, 25088)             0         \n",
            "                                                                 \n",
            " fc1 (Dense)                 (None, 4096)              102764544 \n",
            "                                                                 \n",
            " fc2 (Dense)                 (None, 4096)              16781312  \n",
            "                                                                 \n",
            " predictions (Dense)         (None, 1000)              4097000   \n",
            "                                                                 \n",
            "=================================================================\n",
            "Total params: 138,357,544\n",
            "Trainable params: 138,357,544\n",
            "Non-trainable params: 0\n",
            "_________________________________________________________________\n"
          ]
        }
      ]
    },
    {
      "cell_type": "code",
      "source": [
        "len(model.trainable_weights)"
      ],
      "metadata": {
        "colab": {
          "base_uri": "https://localhost:8080/"
        },
        "id": "HKshIcYClwT4",
        "outputId": "2a3a177b-c490-4e19-a056-357ace5001a2"
      },
      "execution_count": 6,
      "outputs": [
        {
          "output_type": "execute_result",
          "data": {
            "text/plain": [
              "32"
            ]
          },
          "metadata": {},
          "execution_count": 6
        }
      ]
    },
    {
      "cell_type": "markdown",
      "source": [
        "#unfreezing last layers"
      ],
      "metadata": {
        "id": "G8peAaSVCvg3"
      }
    },
    {
      "cell_type": "code",
      "source": [
        "model.trainable = True\n",
        "\n",
        "set_trainable = False\n",
        "for layer in model.layers:\n",
        "    if layer.name == 'block5_conv1':\n",
        "        set_trainable = True\n",
        "    if set_trainable:\n",
        "        layer.trainable = True\n",
        "    else:\n",
        "        layer.trainable = False"
      ],
      "metadata": {
        "id": "wbLrB0osl9q_"
      },
      "execution_count": 7,
      "outputs": []
    },
    {
      "cell_type": "code",
      "source": [
        "model.layers"
      ],
      "metadata": {
        "colab": {
          "base_uri": "https://localhost:8080/"
        },
        "id": "rSKdqAq3mWqN",
        "outputId": "b7b3eb88-3627-47b9-c023-97e99fa93b2f"
      },
      "execution_count": 8,
      "outputs": [
        {
          "output_type": "execute_result",
          "data": {
            "text/plain": [
              "[<keras.engine.input_layer.InputLayer at 0x7f1b2d4c5350>,\n",
              " <keras.layers.convolutional.Conv2D at 0x7f1ba6213310>,\n",
              " <keras.layers.convolutional.Conv2D at 0x7f1b24fbe110>,\n",
              " <keras.layers.pooling.MaxPooling2D at 0x7f1b24fbe790>,\n",
              " <keras.layers.convolutional.Conv2D at 0x7f1b24f3b3d0>,\n",
              " <keras.layers.convolutional.Conv2D at 0x7f1b24f2e1d0>,\n",
              " <keras.layers.pooling.MaxPooling2D at 0x7f1b216683d0>,\n",
              " <keras.layers.convolutional.Conv2D at 0x7f1b24f41250>,\n",
              " <keras.layers.convolutional.Conv2D at 0x7f1b25bf0b10>,\n",
              " <keras.layers.convolutional.Conv2D at 0x7f1b21685650>,\n",
              " <keras.layers.pooling.MaxPooling2D at 0x7f1b2168b190>,\n",
              " <keras.layers.convolutional.Conv2D at 0x7f1b21681a90>,\n",
              " <keras.layers.convolutional.Conv2D at 0x7f1b2168eb50>,\n",
              " <keras.layers.convolutional.Conv2D at 0x7f1b2169b150>,\n",
              " <keras.layers.pooling.MaxPooling2D at 0x7f1b21691450>,\n",
              " <keras.layers.convolutional.Conv2D at 0x7f1b216222d0>,\n",
              " <keras.layers.convolutional.Conv2D at 0x7f1b21626b50>,\n",
              " <keras.layers.convolutional.Conv2D at 0x7f1b21629a90>,\n",
              " <keras.layers.pooling.MaxPooling2D at 0x7f1b2169e8d0>,\n",
              " <keras.layers.core.flatten.Flatten at 0x7f1b21634e50>,\n",
              " <keras.layers.core.dense.Dense at 0x7f1b29d6e490>,\n",
              " <keras.layers.core.dense.Dense at 0x7f1b2163a750>,\n",
              " <keras.layers.core.dense.Dense at 0x7f1b21634e90>]"
            ]
          },
          "metadata": {},
          "execution_count": 8
        }
      ]
    },
    {
      "cell_type": "code",
      "source": [
        "model.layers[-8].trainable==True"
      ],
      "metadata": {
        "colab": {
          "base_uri": "https://localhost:8080/"
        },
        "id": "ef69mSXpm3Kk",
        "outputId": "32f8670b-8dad-45d8-dc08-b1749f319a9d"
      },
      "execution_count": 9,
      "outputs": [
        {
          "output_type": "execute_result",
          "data": {
            "text/plain": [
              "True"
            ]
          },
          "metadata": {},
          "execution_count": 9
        }
      ]
    },
    {
      "cell_type": "code",
      "source": [
        "model.layers[-7].trainable==True"
      ],
      "metadata": {
        "colab": {
          "base_uri": "https://localhost:8080/"
        },
        "id": "8B3E37gLopLo",
        "outputId": "0f02d370-34ab-4bfd-e49b-a57bb63076b7"
      },
      "execution_count": 10,
      "outputs": [
        {
          "output_type": "execute_result",
          "data": {
            "text/plain": [
              "True"
            ]
          },
          "metadata": {},
          "execution_count": 10
        }
      ]
    },
    {
      "cell_type": "code",
      "source": [
        "### unfreezing just one layer"
      ],
      "metadata": {
        "id": "34WogKloo8es"
      },
      "execution_count": 11,
      "outputs": []
    },
    {
      "cell_type": "code",
      "source": [
        "model1=vgg16.VGG16(weights='imagenet')"
      ],
      "metadata": {
        "id": "o7Dq6lCaq58b"
      },
      "execution_count": 12,
      "outputs": []
    },
    {
      "cell_type": "code",
      "source": [
        "model1.trainable = True\n",
        "\n",
        "set_trainable = False\n",
        "for layer in model1.layers:\n",
        "    if layer.name == 'block5_conv1':\n",
        "        set_trainable = True\n",
        "    else:\n",
        "        set_trainable = False\n",
        "    if set_trainable:\n",
        "        layer.trainable = True\n",
        "    else:\n",
        "        layer.trainable = False"
      ],
      "metadata": {
        "id": "0QUmUoKVxztx"
      },
      "execution_count": 13,
      "outputs": []
    },
    {
      "cell_type": "code",
      "source": [
        "model1.layers[-8].trainable==True"
      ],
      "metadata": {
        "colab": {
          "base_uri": "https://localhost:8080/"
        },
        "id": "UP-LykhxA7Q2",
        "outputId": "80add100-4fe5-4fad-dfbf-6365eb4b7da7"
      },
      "execution_count": 14,
      "outputs": [
        {
          "output_type": "execute_result",
          "data": {
            "text/plain": [
              "True"
            ]
          },
          "metadata": {},
          "execution_count": 14
        }
      ]
    },
    {
      "cell_type": "code",
      "source": [
        "model1.layers[-7].trainable==True"
      ],
      "metadata": {
        "colab": {
          "base_uri": "https://localhost:8080/"
        },
        "id": "Q70ZJ6BGBD5U",
        "outputId": "8e2f94eb-4da8-42b7-bbf4-c90fe61acaed"
      },
      "execution_count": 15,
      "outputs": [
        {
          "output_type": "execute_result",
          "data": {
            "text/plain": [
              "False"
            ]
          },
          "metadata": {},
          "execution_count": 15
        }
      ]
    },
    {
      "cell_type": "code",
      "source": [
        ""
      ],
      "metadata": {
        "id": "tuO7mUi3BIma"
      },
      "execution_count": 15,
      "outputs": []
    }
  ]
}